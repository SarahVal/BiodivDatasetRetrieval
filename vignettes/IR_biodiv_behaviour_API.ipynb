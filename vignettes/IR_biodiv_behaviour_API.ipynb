{
 "cells": [
  {
   "cell_type": "markdown",
   "id": "8697e37d",
   "metadata": {},
   "source": [
    "# Evaluating the sensitivity of Zenodo and Dryad API"
   ]
  },
  {
   "cell_type": "code",
   "execution_count": 190,
   "id": "dd50d407",
   "metadata": {},
   "outputs": [],
   "source": [
    "import json\n",
    "import requests\n",
    "import regex as re\n",
    "import pandas as pd"
   ]
  },
  {
   "cell_type": "code",
   "execution_count": 191,
   "id": "f6145394",
   "metadata": {},
   "outputs": [],
   "source": [
    "def extract_dryad(entry, i_query):\n",
    "    if \"keywords\" in entry.keys():\n",
    "        keywords = \"_\".join(entry['keywords'])\n",
    "    else:\n",
    "        keywords = []\n",
    "    return([entry['_links']['self']['href'],\n",
    "    entry[\"title\"],\n",
    "    entry['abstract'],\n",
    "    keywords,\n",
    "    entry[\"publicationDate\"],\n",
    "           i_query])\n",
    "\n",
    "def extract_zenodo(entry, i_query):\n",
    "    metadata = entry[\"metadata\"]\n",
    "    if \"keywords\" in metadata.keys():\n",
    "        keywords = \"; \".join(metadata['keywords'])\n",
    "    else:\n",
    "        keywords = \"\"\n",
    "        \n",
    "    if \"method\" in metadata.keys():\n",
    "        method = metadata['method']\n",
    "    else:\n",
    "        method = \"\"\n",
    "    \n",
    "    if \"notes\" in metadata.keys():\n",
    "        notes = metadata['notes']\n",
    "    else:\n",
    "        notes = \"\"\n",
    "    \n",
    "    if \"locations\" in metadata.keys():\n",
    "        locations = [k[\"place\"] for k in metadata['locations']]\n",
    "        locations = \"; \".join(locations)\n",
    "    else:\n",
    "        locations = \"\"\n",
    "    \n",
    "    if \"related_identifiers\" in metadata.keys():\n",
    "        cited_articles = [\"https://doi.org/\" + k[\"identifier\"] for k in metadata[\"related_identifiers\"]]\n",
    "        cited_articles = \"; \".join(cited_articles)\n",
    "    else:\n",
    "        cited_articles = \"\"\n",
    "    return([metadata['doi'],\n",
    "    metadata[\"title\"],\n",
    "    metadata['description'],\n",
    "   method,\n",
    "    notes,        \n",
    "    keywords,\n",
    "    locations,\n",
    "    metadata[\"publication_date\"],\n",
    "    cited_articles,\n",
    "           i_query])\n",
    "\n",
    "def retrieve_zenodo(queries):\n",
    "    rows = []\n",
    "    for i, q in queries.items():\n",
    "        response = requests.get('https://zenodo.org/api/records',\n",
    "                            params={'q': \"+\" + q.replace('AND ', \"+\"),\n",
    "                                    \"type\" : \"dataset\", \n",
    "                                    \"size\":1000,\n",
    "                                    'access_token': \"Mf4LxV3d12BadrTyBke4vKphD6SO59ILOCHKGlQBbrcuKWMPlcUG51jBCA7p\"})\n",
    "        for j in range(0, len(response.json()[\"hits\"][\"hits\"])):\n",
    "            entry = response.json()[\"hits\"][\"hits\"][j]\n",
    "            rows.append(extract_zenodo(entry, i))\n",
    "    df = pd.DataFrame(rows)\n",
    "    df.columns = [\"url\", \"title\", \"description\", \"method\", \"notes\", \"keywords\", \"locations\", \"publication_date\", \"cited_articles\", \"id_query\"]\n",
    "    df[\"source\"] = \"zenodo\"\n",
    "    df['url'] = df['url'].apply(lambda row : \"https://doi.org/\" + row)\n",
    "    return(df)\n",
    "\n",
    "\n",
    "def retrieve_dryad(queries):\n",
    "\n",
    "    base_url = \"https://datadryad.org/api/v2/search\"\n",
    "    rows = []\n",
    "    for i_query in range(len(queries)):\n",
    "        query = {'q':queries[i_query]}\n",
    "        response = requests.get(BASE_URL, params=query)\n",
    "        n_last  = int(re.search('/api/v2/search\\?page=([0-9]+)', response.json()['_links'][\"last\"]['href']).group(1))\n",
    "        for i in range(0, n_last):\n",
    "            search = 'https://datadryad.org/api/v2/search?page={0}&q={1}'.format(i, queries[i_query])\n",
    "            response = requests.get(search)\n",
    "            for entry in response.json()['_embedded'][\"stash:datasets\"]:\n",
    "                rows.append(extract_dryad(entry, i_query))\n",
    "    df = pd.DataFrame(rows)\n",
    "    df.columns = [\"url\", \"title\", \"content\", \"keywords\", \"publication_date\", \"id_query\"]\n",
    "    df['url'] = df['url'].apply(lambda row : row.replace(\"/api/v2/datasets/doi%3A10.5061%2F\", \"https://doi.org/10.5061/\"))\n",
    "    df[\"source\"] = \"dryad\"\n",
    "    return(df)"
   ]
  },
  {
   "cell_type": "markdown",
   "id": "74d6be2e",
   "metadata": {},
   "source": [
    "Let's create example queries. We will compare the results obtained by Zenodo and Dryad API for queries 0 and 1 (\"occurrence\" and \"occurrence\"), queries 0 and 2 (\"Québec\" and \"Quebec\") and queries 3 and 4 (\"inventory\" and \"inventories\")."
   ]
  },
  {
   "cell_type": "code",
   "execution_count": 192,
   "id": "4c37a8ed",
   "metadata": {},
   "outputs": [],
   "source": [
    "queries = {0: \"Quebec AND occurrence AND species\",\n",
    "          1: \"Quebec AND occurrences AND species\",\n",
    "        2: \"Québec AND occurrence AND species\",\n",
    "           3: \"Quebec AND inventory AND species\",\n",
    "          4: \"Quebec AND inventories AND species\"\n",
    "          }"
   ]
  },
  {
   "cell_type": "markdown",
   "id": "1ef50b17",
   "metadata": {},
   "source": [
    "# Testing the sensitivity to singular/plural forms"
   ]
  },
  {
   "cell_type": "markdown",
   "id": "88641b04",
   "metadata": {},
   "source": [
    "## Zenodo"
   ]
  },
  {
   "cell_type": "code",
   "execution_count": 193,
   "id": "d8e06500",
   "metadata": {},
   "outputs": [],
   "source": [
    "df_zenodo = retrieve_zenodo(queries)"
   ]
  },
  {
   "cell_type": "code",
   "execution_count": 194,
   "id": "35a8aa42",
   "metadata": {},
   "outputs": [
    {
     "data": {
      "text/html": [
       "<div>\n",
       "<style scoped>\n",
       "    .dataframe tbody tr th:only-of-type {\n",
       "        vertical-align: middle;\n",
       "    }\n",
       "\n",
       "    .dataframe tbody tr th {\n",
       "        vertical-align: top;\n",
       "    }\n",
       "\n",
       "    .dataframe thead th {\n",
       "        text-align: right;\n",
       "    }\n",
       "</style>\n",
       "<table border=\"1\" class=\"dataframe\">\n",
       "  <thead>\n",
       "    <tr style=\"text-align: right;\">\n",
       "      <th></th>\n",
       "      <th>url</th>\n",
       "      <th>title</th>\n",
       "      <th>description</th>\n",
       "      <th>method</th>\n",
       "      <th>notes</th>\n",
       "      <th>keywords</th>\n",
       "      <th>locations</th>\n",
       "      <th>publication_date</th>\n",
       "      <th>cited_articles</th>\n",
       "      <th>id_query</th>\n",
       "      <th>source</th>\n",
       "    </tr>\n",
       "  </thead>\n",
       "  <tbody>\n",
       "    <tr>\n",
       "      <th>0</th>\n",
       "      <td>https://doi.org/10.5061/dryad.24rj8</td>\n",
       "      <td>Data from: Aspicilia bicensis (Megasporaceae),...</td>\n",
       "      <td>Aspicilia bicensis is described as new to scie...</td>\n",
       "      <td></td>\n",
       "      <td>&lt;div class=\"o-metadata__file-usage-entry\"&gt;data...</td>\n",
       "      <td>Anthropocene; Aspicilia; sterile crustose lich...</td>\n",
       "      <td>Canada; Quebec; Boreal Forest; North America</td>\n",
       "      <td>2016-12-23</td>\n",
       "      <td>https://doi.org/10.1639/0007-2745-119.1.008</td>\n",
       "      <td>0</td>\n",
       "      <td>zenodo</td>\n",
       "    </tr>\n",
       "    <tr>\n",
       "      <th>1</th>\n",
       "      <td>https://doi.org/10.5061/dryad.q810f</td>\n",
       "      <td>Data from: Ecological and evolutionary diversi...</td>\n",
       "      <td>The concept of limiting similarity predicts th...</td>\n",
       "      <td></td>\n",
       "      <td>&lt;div class=\"o-metadata__file-usage-entry\"&gt;Supp...</td>\n",
       "      <td>nuclear ribosomal spacers; Tertiary and Quater...</td>\n",
       "      <td>Central Quebec-Labrador peninsula</td>\n",
       "      <td>2017-04-29</td>\n",
       "      <td>https://doi.org/10.1600/036364416x692514</td>\n",
       "      <td>0</td>\n",
       "      <td>zenodo</td>\n",
       "    </tr>\n",
       "    <tr>\n",
       "      <th>2</th>\n",
       "      <td>https://doi.org/10.5061/dryad.t11f5</td>\n",
       "      <td>Data from: Habitat-based polymorphism is commo...</td>\n",
       "      <td>1. Morphological differences (size and shape) ...</td>\n",
       "      <td></td>\n",
       "      <td>&lt;div class=\"o-metadata__file-usage-entry\"&gt;Data...</td>\n",
       "      <td>Catostomus commersoni; Exoglossum maxillingua;...</td>\n",
       "      <td>Canada; Québec</td>\n",
       "      <td>2015-07-14</td>\n",
       "      <td>https://doi.org/10.1111/1365-2656.12269</td>\n",
       "      <td>0</td>\n",
       "      <td>zenodo</td>\n",
       "    </tr>\n",
       "    <tr>\n",
       "      <th>3</th>\n",
       "      <td>https://doi.org/10.5061/dryad.q573n5tdx</td>\n",
       "      <td>Priority effects will impede range shifts of t...</td>\n",
       "      <td>&lt;p&gt; Temperate tree species are expected to exp...</td>\n",
       "      <td>&lt;p&gt;A grid of 20 m x 20 m quadrats were establi...</td>\n",
       "      <td>&lt;p&gt;&lt;b&gt;Permanent Plots - Tree Species Codes&lt;/b&gt;...</td>\n",
       "      <td>long-term permanent plot; Ecotone; seedlings; ...</td>\n",
       "      <td></td>\n",
       "      <td>2019-12-01</td>\n",
       "      <td></td>\n",
       "      <td>0</td>\n",
       "      <td>zenodo</td>\n",
       "    </tr>\n",
       "    <tr>\n",
       "      <th>4</th>\n",
       "      <td>https://doi.org/10.5061/dryad.s4mw6m97h</td>\n",
       "      <td>Lesser Yellowlegs location data describing the...</td>\n",
       "      <td>&lt;p&gt;Shorebirds have experienced a precipitous r...</td>\n",
       "      <td>&lt;p&gt;Location data was collected using Lotek Arg...</td>\n",
       "      <td>&lt;p&gt;The dataset does not include any missing va...</td>\n",
       "      <td>Tringa flavipes; Random walk model; harvest; m...</td>\n",
       "      <td></td>\n",
       "      <td>2021-11-18</td>\n",
       "      <td>https://doi.org/10.5281/zenodo.5661999</td>\n",
       "      <td>0</td>\n",
       "      <td>zenodo</td>\n",
       "    </tr>\n",
       "  </tbody>\n",
       "</table>\n",
       "</div>"
      ],
      "text/plain": [
       "                                       url  \\\n",
       "0      https://doi.org/10.5061/dryad.24rj8   \n",
       "1      https://doi.org/10.5061/dryad.q810f   \n",
       "2      https://doi.org/10.5061/dryad.t11f5   \n",
       "3  https://doi.org/10.5061/dryad.q573n5tdx   \n",
       "4  https://doi.org/10.5061/dryad.s4mw6m97h   \n",
       "\n",
       "                                               title  \\\n",
       "0  Data from: Aspicilia bicensis (Megasporaceae),...   \n",
       "1  Data from: Ecological and evolutionary diversi...   \n",
       "2  Data from: Habitat-based polymorphism is commo...   \n",
       "3  Priority effects will impede range shifts of t...   \n",
       "4  Lesser Yellowlegs location data describing the...   \n",
       "\n",
       "                                         description  \\\n",
       "0  Aspicilia bicensis is described as new to scie...   \n",
       "1  The concept of limiting similarity predicts th...   \n",
       "2  1. Morphological differences (size and shape) ...   \n",
       "3  <p> Temperate tree species are expected to exp...   \n",
       "4  <p>Shorebirds have experienced a precipitous r...   \n",
       "\n",
       "                                              method  \\\n",
       "0                                                      \n",
       "1                                                      \n",
       "2                                                      \n",
       "3  <p>A grid of 20 m x 20 m quadrats were establi...   \n",
       "4  <p>Location data was collected using Lotek Arg...   \n",
       "\n",
       "                                               notes  \\\n",
       "0  <div class=\"o-metadata__file-usage-entry\">data...   \n",
       "1  <div class=\"o-metadata__file-usage-entry\">Supp...   \n",
       "2  <div class=\"o-metadata__file-usage-entry\">Data...   \n",
       "3  <p><b>Permanent Plots - Tree Species Codes</b>...   \n",
       "4  <p>The dataset does not include any missing va...   \n",
       "\n",
       "                                            keywords  \\\n",
       "0  Anthropocene; Aspicilia; sterile crustose lich...   \n",
       "1  nuclear ribosomal spacers; Tertiary and Quater...   \n",
       "2  Catostomus commersoni; Exoglossum maxillingua;...   \n",
       "3  long-term permanent plot; Ecotone; seedlings; ...   \n",
       "4  Tringa flavipes; Random walk model; harvest; m...   \n",
       "\n",
       "                                      locations publication_date  \\\n",
       "0  Canada; Quebec; Boreal Forest; North America       2016-12-23   \n",
       "1             Central Quebec-Labrador peninsula       2017-04-29   \n",
       "2                                Canada; Québec       2015-07-14   \n",
       "3                                                     2019-12-01   \n",
       "4                                                     2021-11-18   \n",
       "\n",
       "                                cited_articles  id_query  source  \n",
       "0  https://doi.org/10.1639/0007-2745-119.1.008         0  zenodo  \n",
       "1     https://doi.org/10.1600/036364416x692514         0  zenodo  \n",
       "2      https://doi.org/10.1111/1365-2656.12269         0  zenodo  \n",
       "3                                                      0  zenodo  \n",
       "4       https://doi.org/10.5281/zenodo.5661999         0  zenodo  "
      ]
     },
     "execution_count": 194,
     "metadata": {},
     "output_type": "execute_result"
    }
   ],
   "source": [
    "df_zenodo.head()"
   ]
  },
  {
   "cell_type": "code",
   "execution_count": 195,
   "id": "7a8c7a12",
   "metadata": {},
   "outputs": [],
   "source": [
    "url_zenodo = dict()\n",
    "for i, query in queries.items():\n",
    "    url_zenodo[i] = df_zenodo.query(\"id_query == @i\").url.tolist()"
   ]
  },
  {
   "cell_type": "markdown",
   "id": "b9c3c6f7",
   "metadata": {},
   "source": [
    "Let'see if searching for a singular form (\"occurrence\") with query 0 also matches also plural form (\"occurrences\") obtained by query 1."
   ]
  },
  {
   "cell_type": "code",
   "execution_count": 196,
   "id": "c7ed09f0",
   "metadata": {},
   "outputs": [
    {
     "name": "stdout",
     "output_type": "stream",
     "text": [
      "Results from query 1 detected by query 0 : 1\n",
      "Results of query 1 : 3\n"
     ]
    }
   ],
   "source": [
    "print(\"Results from query 1 detected by query 0 :\", len([x for x in url_zenodo[0] if x in url_zenodo[1]]))\n",
    "print(\"Results of query 1 :\", len(url_zenodo[1]))"
   ]
  },
  {
   "cell_type": "markdown",
   "id": "2719541b",
   "metadata": {},
   "source": [
    "The query with singular form did not macth the plural form (2 results missing)."
   ]
  },
  {
   "cell_type": "markdown",
   "id": "e4a7d992",
   "metadata": {},
   "source": [
    "## Dryad"
   ]
  },
  {
   "cell_type": "code",
   "execution_count": 197,
   "id": "9e37fb44",
   "metadata": {},
   "outputs": [],
   "source": [
    "df_dryad = retrieve_dryad(queries)"
   ]
  },
  {
   "cell_type": "code",
   "execution_count": 198,
   "id": "bb8a889e",
   "metadata": {},
   "outputs": [],
   "source": [
    "url_dryad = dict()\n",
    "for i, query in queries.items():\n",
    "    url_dryad[i] = df_dryad.query(\"id_query == @i\").url.tolist()"
   ]
  },
  {
   "cell_type": "code",
   "execution_count": 199,
   "id": "22cd03ff",
   "metadata": {},
   "outputs": [
    {
     "name": "stdout",
     "output_type": "stream",
     "text": [
      "Results from query 1 detected by query 0 : 6\n",
      "Results of query 1 : 6\n"
     ]
    }
   ],
   "source": [
    "print(\"Results from query 1 detected by query 0 :\", len([x for x in url_dryad[0] if x in url_dryad[1]]))\n",
    "print(\"Results of query 1 :\", len(url_dryad[1]))"
   ]
  },
  {
   "cell_type": "markdown",
   "id": "cb3169e4",
   "metadata": {},
   "source": [
    "It's a match ! Let's check if it work with other types of plural forms (\"inventory\" and \"inventories\")."
   ]
  },
  {
   "cell_type": "code",
   "execution_count": 200,
   "id": "9a3d4993",
   "metadata": {},
   "outputs": [
    {
     "name": "stdout",
     "output_type": "stream",
     "text": [
      "Results from query 4 detected by query 3 : 2\n",
      "Results of query 4 : 2\n"
     ]
    }
   ],
   "source": [
    "print(\"Results from query 4 detected by query 3 :\", len([x for x in url_dryad[3] if x in url_dryad[4]]))\n",
    "print(\"Results of query 4 :\", len(url_dryad[4]))"
   ]
  },
  {
   "cell_type": "markdown",
   "id": "7708ff5b",
   "metadata": {},
   "source": [
    "Still a match !"
   ]
  },
  {
   "cell_type": "markdown",
   "id": "7130f064",
   "metadata": {},
   "source": [
    "# Testing the sensitivity to accent"
   ]
  },
  {
   "cell_type": "markdown",
   "id": "665bb3a7",
   "metadata": {},
   "source": [
    "## Zenodo"
   ]
  },
  {
   "cell_type": "code",
   "execution_count": 201,
   "id": "8ccfdfc9",
   "metadata": {},
   "outputs": [
    {
     "name": "stdout",
     "output_type": "stream",
     "text": [
      "Results from query 0 : 10\n",
      "Results from query 2 : 15\n"
     ]
    }
   ],
   "source": [
    "print(\"Results from query 0 :\", len(url_zenodo[0]))\n",
    "print(\"Results from query 2 :\", len(url_zenodo[2]))"
   ]
  },
  {
   "cell_type": "code",
   "execution_count": 202,
   "id": "a6eef8ec",
   "metadata": {},
   "outputs": [
    {
     "name": "stdout",
     "output_type": "stream",
     "text": [
      "Results from query 0 detected by query 2 : 3\n",
      "Results from query 2 detected by query 0 : 3\n"
     ]
    }
   ],
   "source": [
    "print(\"Results from query 0 detected by query 2 :\", len([x for x in url_zenodo[0] if x in url_zenodo[2]]))\n",
    "print(\"Results from query 2 detected by query 0 :\", len([x for x in url_zenodo[2] if x in url_zenodo[0]]))"
   ]
  },
  {
   "cell_type": "markdown",
   "id": "e04dd581",
   "metadata": {},
   "source": [
    "## Dryad"
   ]
  },
  {
   "cell_type": "code",
   "execution_count": 203,
   "id": "b66dac7a",
   "metadata": {},
   "outputs": [
    {
     "name": "stdout",
     "output_type": "stream",
     "text": [
      "Results from query 0 : 6\n",
      "Results from query 2 : 5\n"
     ]
    }
   ],
   "source": [
    "print(\"Results from query 0 :\", len(url_dryad[0]))\n",
    "print(\"Results from query 2 :\", len(url_dryad[2]))"
   ]
  },
  {
   "cell_type": "code",
   "execution_count": 204,
   "id": "6811a869",
   "metadata": {},
   "outputs": [
    {
     "name": "stdout",
     "output_type": "stream",
     "text": [
      "Results from query 0 detected by query 2 : 1\n",
      "Results from query 2 detected by query 0 : 1\n"
     ]
    }
   ],
   "source": [
    "print(\"Results from query 0 detected by query 2 :\", len([x for x in url_dryad[0] if x in url_dryad[2]]))\n",
    "print(\"Results from query 2 detected by query 0 :\", len([x for x in url_dryad[2] if x in url_dryad[0]]))"
   ]
  },
  {
   "cell_type": "markdown",
   "id": "fe25fb57",
   "metadata": {},
   "source": [
    "Both APIs are sensitive to accent."
   ]
  },
  {
   "cell_type": "markdown",
   "id": "9a1f0e31",
   "metadata": {},
   "source": [
    "# Testing the retrieval of Dryad datasets by Zenodo API"
   ]
  },
  {
   "cell_type": "markdown",
   "id": "81f46d19",
   "metadata": {},
   "source": [
    "Let's check that the queries 0 and 1 from Zenodo match the same query by Dryad (we have to merge query 0 and 1 for Zenodo as the API is sensitive to singumar/plural forms)."
   ]
  },
  {
   "cell_type": "code",
   "execution_count": 205,
   "id": "cc60751e",
   "metadata": {},
   "outputs": [],
   "source": [
    "zenodo_result = list(set(url_zenodo[0] + url_zenodo[1]))\n",
    "dryad_result = url_dryad[0]"
   ]
  },
  {
   "cell_type": "code",
   "execution_count": 206,
   "id": "0c3dbd20",
   "metadata": {},
   "outputs": [
    {
     "name": "stdout",
     "output_type": "stream",
     "text": [
      "Results from Dryad: 6\n",
      "Results from Dryad detected by Zenodo: 6\n"
     ]
    }
   ],
   "source": [
    "print(\"Results from Dryad:\" , len(dryad_result))\n",
    "print(\"Results from Dryad detected by Zenodo:\", len(set(zenodo_result) & set(dryad_result)))"
   ]
  },
  {
   "cell_type": "markdown",
   "id": "659ece4c",
   "metadata": {},
   "source": [
    "It's a match !"
   ]
  }
 ],
 "metadata": {
  "kernelspec": {
   "display_name": "Python 3",
   "language": "python",
   "name": "python3"
  },
  "language_info": {
   "codemirror_mode": {
    "name": "ipython",
    "version": 3
   },
   "file_extension": ".py",
   "mimetype": "text/x-python",
   "name": "python",
   "nbconvert_exporter": "python",
   "pygments_lexer": "ipython3",
   "version": "3.9.7"
  },
  "widgets": {
   "application/vnd.jupyter.widget-state+json": {
    "state": {},
    "version_major": 2,
    "version_minor": 0
   }
  }
 },
 "nbformat": 4,
 "nbformat_minor": 5
}
