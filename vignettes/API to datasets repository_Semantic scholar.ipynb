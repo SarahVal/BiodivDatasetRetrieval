{
 "cells": [
  {
   "cell_type": "code",
   "execution_count": 14,
   "id": "dd50d407",
   "metadata": {},
   "outputs": [],
   "source": [
    "import json\n",
    "import requests\n",
    "import regex as re\n",
    "import pandas as pd"
   ]
  },
  {
   "cell_type": "code",
   "execution_count": 68,
   "id": "f9990761",
   "metadata": {},
   "outputs": [],
   "source": [
    "%run func_dataset_retrieval.py"
   ]
  },
  {
   "cell_type": "markdown",
   "id": "1ef50b17",
   "metadata": {},
   "source": [
    "## Queries"
   ]
  },
  {
   "cell_type": "markdown",
   "id": "74d6be2e",
   "metadata": {},
   "source": [
    "Queries can be modified, but important to record in each dataset retrieved from the following source the queries that allowed to retrieve it. Queries are encoded as an integer while iterating through it (1st query is 0, 2nd is 1, etc...) so it is important to export the table with the query content and their corresponding id."
   ]
  },
  {
   "cell_type": "code",
   "execution_count": 16,
   "id": "e9afb98f",
   "metadata": {},
   "outputs": [
    {
     "data": {
      "text/html": [
       "<div>\n",
       "<style scoped>\n",
       "    .dataframe tbody tr th:only-of-type {\n",
       "        vertical-align: middle;\n",
       "    }\n",
       "\n",
       "    .dataframe tbody tr th {\n",
       "        vertical-align: top;\n",
       "    }\n",
       "\n",
       "    .dataframe thead th {\n",
       "        text-align: right;\n",
       "    }\n",
       "</style>\n",
       "<table border=\"1\" class=\"dataframe\">\n",
       "  <thead>\n",
       "    <tr style=\"text-align: right;\">\n",
       "      <th></th>\n",
       "      <th>query</th>\n",
       "      <th>id_query</th>\n",
       "    </tr>\n",
       "  </thead>\n",
       "  <tbody>\n",
       "    <tr>\n",
       "      <th>0</th>\n",
       "      <td>Québec AND survey AND species</td>\n",
       "      <td>0</td>\n",
       "    </tr>\n",
       "    <tr>\n",
       "      <th>1</th>\n",
       "      <td>Québec AND \"time series\" AND species</td>\n",
       "      <td>1</td>\n",
       "    </tr>\n",
       "    <tr>\n",
       "      <th>2</th>\n",
       "      <td>Québec AND inventory AND species</td>\n",
       "      <td>2</td>\n",
       "    </tr>\n",
       "    <tr>\n",
       "      <th>3</th>\n",
       "      <td>Québec AND species</td>\n",
       "      <td>3</td>\n",
       "    </tr>\n",
       "    <tr>\n",
       "      <th>4</th>\n",
       "      <td>Québec AND abundance AND  species</td>\n",
       "      <td>4</td>\n",
       "    </tr>\n",
       "    <tr>\n",
       "      <th>5</th>\n",
       "      <td>Québec AND occurrence AND species</td>\n",
       "      <td>5</td>\n",
       "    </tr>\n",
       "    <tr>\n",
       "      <th>6</th>\n",
       "      <td>Québec AND population AND species</td>\n",
       "      <td>6</td>\n",
       "    </tr>\n",
       "    <tr>\n",
       "      <th>7</th>\n",
       "      <td>Québec AND sites AND species</td>\n",
       "      <td>7</td>\n",
       "    </tr>\n",
       "    <tr>\n",
       "      <th>8</th>\n",
       "      <td>Québec AND sampling AND species</td>\n",
       "      <td>8</td>\n",
       "    </tr>\n",
       "    <tr>\n",
       "      <th>9</th>\n",
       "      <td>Québec AND collection AND species</td>\n",
       "      <td>9</td>\n",
       "    </tr>\n",
       "  </tbody>\n",
       "</table>\n",
       "</div>"
      ],
      "text/plain": [
       "                                  query  id_query\n",
       "0         Québec AND survey AND species         0\n",
       "1  Québec AND \"time series\" AND species         1\n",
       "2      Québec AND inventory AND species         2\n",
       "3                    Québec AND species         3\n",
       "4     Québec AND abundance AND  species         4\n",
       "5     Québec AND occurrence AND species         5\n",
       "6     Québec AND population AND species         6\n",
       "7          Québec AND sites AND species         7\n",
       "8       Québec AND sampling AND species         8\n",
       "9     Québec AND collection AND species         9"
      ]
     },
     "execution_count": 16,
     "metadata": {},
     "output_type": "execute_result"
    }
   ],
   "source": [
    "path_query='C:/Users/vals3103/Downloads/df_query.xlsx'\n",
    "df_queries = pd.read_excel(path_query, engine = \"openpyxl\", converters={'id_query':int})\n",
    "df_queries"
   ]
  },
  {
   "cell_type": "markdown",
   "id": "4ef0dba7",
   "metadata": {},
   "source": [
    "Here, importantly, subset the queries to not take into account the ones that have already been done. For instance, to ignore the 7 first query (id >=):"
   ]
  },
  {
   "cell_type": "code",
   "execution_count": 17,
   "id": "209b6b8f",
   "metadata": {},
   "outputs": [],
   "source": [
    "queries = df_queries.query(\"id_query >= 9\").to_dict()['query']"
   ]
  },
  {
   "cell_type": "code",
   "execution_count": 73,
   "id": "d819b1f8",
   "metadata": {},
   "outputs": [],
   "source": [
    "queries = {10: 'Québec AND density AND species'}"
   ]
  },
  {
   "cell_type": "code",
   "execution_count": 18,
   "id": "0a8f4f8a",
   "metadata": {},
   "outputs": [
    {
     "name": "stdout",
     "output_type": "stream",
     "text": [
      "9\n",
      "Québec AND collection AND species\n"
     ]
    }
   ],
   "source": [
    "for i, query in queries.items():\n",
    "    print(i)\n",
    "    print(query)"
   ]
  },
  {
   "cell_type": "markdown",
   "id": "9599ca09",
   "metadata": {},
   "source": [
    "## Semantic Scholar"
   ]
  },
  {
   "cell_type": "markdown",
   "id": "a9148be2",
   "metadata": {},
   "source": [
    "With Semantic Scholar, we have to set three variables : offset, limit, and year range"
   ]
  },
  {
   "cell_type": "code",
   "execution_count": 74,
   "id": "9efa01f4",
   "metadata": {},
   "outputs": [],
   "source": [
    "offset = 0\n",
    "limit = 50\n",
    "year_min = 1980\n",
    "year_max = 2022"
   ]
  },
  {
   "cell_type": "code",
   "execution_count": 75,
   "id": "67e45df0",
   "metadata": {},
   "outputs": [
    {
     "name": "stdout",
     "output_type": "stream",
     "text": [
      "http://api.semanticscholar.org/graph/v1/paper/search?query=Québec+density+species&offset=0&limit=50&year=1980-2022\n",
      "http://api.semanticscholar.org/graph/v1/paper/search?query=Québec+densities+species&offset=0&limit=50&year=1980-2022\n"
     ]
    }
   ],
   "source": [
    "df_semantic = retrieve_semantic(queries, offset = offset, limit = limit, year_min = year_min, year_max = year_max)"
   ]
  },
  {
   "cell_type": "code",
   "execution_count": 76,
   "id": "7625bf2d",
   "metadata": {},
   "outputs": [],
   "source": [
    "df_semantic.to_csv(\"C://Users//vals3103//Post-doc//Text_mining//semantic_scholar.csv\", sep=\";\", header=True, index=False)"
   ]
  }
 ],
 "metadata": {
  "kernelspec": {
   "display_name": "Python 3",
   "language": "python",
   "name": "python3"
  },
  "language_info": {
   "codemirror_mode": {
    "name": "ipython",
    "version": 3
   },
   "file_extension": ".py",
   "mimetype": "text/x-python",
   "name": "python",
   "nbconvert_exporter": "python",
   "pygments_lexer": "ipython3",
   "version": "3.9.7"
  }
 },
 "nbformat": 4,
 "nbformat_minor": 5
}
