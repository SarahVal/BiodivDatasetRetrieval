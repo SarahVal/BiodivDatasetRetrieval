{
 "cells": [
  {
   "cell_type": "code",
   "execution_count": 1,
   "id": "dd50d407",
   "metadata": {},
   "outputs": [],
   "source": [
    "import json\n",
    "import requests\n",
    "import regex as re\n",
    "import pandas as pd"
   ]
  },
  {
   "cell_type": "code",
   "execution_count": 2,
   "id": "f9990761",
   "metadata": {},
   "outputs": [],
   "source": [
    "%run func_dataset_retrieval.py"
   ]
  },
  {
   "cell_type": "markdown",
   "id": "1ef50b17",
   "metadata": {},
   "source": [
    "## Queries"
   ]
  },
  {
   "cell_type": "markdown",
   "id": "74d6be2e",
   "metadata": {},
   "source": [
    "Queries can be modified, but important to record in each dataset retrieved from the following source the queries that allowed to retrieve it. Queries are encoded as an integer while iterating through it (1st query is 0, 2nd is 1, etc...) so it is important to export the table with the query content and their corresponding id."
   ]
  },
  {
   "cell_type": "code",
   "execution_count": 3,
   "id": "e9afb98f",
   "metadata": {},
   "outputs": [
    {
     "data": {
      "text/html": [
       "<div>\n",
       "<style scoped>\n",
       "    .dataframe tbody tr th:only-of-type {\n",
       "        vertical-align: middle;\n",
       "    }\n",
       "\n",
       "    .dataframe tbody tr th {\n",
       "        vertical-align: top;\n",
       "    }\n",
       "\n",
       "    .dataframe thead th {\n",
       "        text-align: right;\n",
       "    }\n",
       "</style>\n",
       "<table border=\"1\" class=\"dataframe\">\n",
       "  <thead>\n",
       "    <tr style=\"text-align: right;\">\n",
       "      <th></th>\n",
       "      <th>query</th>\n",
       "      <th>id_query</th>\n",
       "    </tr>\n",
       "  </thead>\n",
       "  <tbody>\n",
       "    <tr>\n",
       "      <th>0</th>\n",
       "      <td>Québec AND survey AND species</td>\n",
       "      <td>0</td>\n",
       "    </tr>\n",
       "    <tr>\n",
       "      <th>1</th>\n",
       "      <td>Québec AND \"time series\" AND species</td>\n",
       "      <td>1</td>\n",
       "    </tr>\n",
       "    <tr>\n",
       "      <th>2</th>\n",
       "      <td>Québec AND inventory AND species</td>\n",
       "      <td>2</td>\n",
       "    </tr>\n",
       "    <tr>\n",
       "      <th>3</th>\n",
       "      <td>Québec AND species</td>\n",
       "      <td>3</td>\n",
       "    </tr>\n",
       "    <tr>\n",
       "      <th>4</th>\n",
       "      <td>Québec AND abundance AND  species</td>\n",
       "      <td>4</td>\n",
       "    </tr>\n",
       "    <tr>\n",
       "      <th>5</th>\n",
       "      <td>Québec AND occurrence AND species</td>\n",
       "      <td>5</td>\n",
       "    </tr>\n",
       "    <tr>\n",
       "      <th>6</th>\n",
       "      <td>Québec AND population AND species</td>\n",
       "      <td>6</td>\n",
       "    </tr>\n",
       "    <tr>\n",
       "      <th>7</th>\n",
       "      <td>Québec AND sites AND species</td>\n",
       "      <td>7</td>\n",
       "    </tr>\n",
       "    <tr>\n",
       "      <th>8</th>\n",
       "      <td>Québec AND sampling AND species</td>\n",
       "      <td>8</td>\n",
       "    </tr>\n",
       "    <tr>\n",
       "      <th>9</th>\n",
       "      <td>Québec AND collection AND species</td>\n",
       "      <td>9</td>\n",
       "    </tr>\n",
       "  </tbody>\n",
       "</table>\n",
       "</div>"
      ],
      "text/plain": [
       "                                  query  id_query\n",
       "0         Québec AND survey AND species         0\n",
       "1  Québec AND \"time series\" AND species         1\n",
       "2      Québec AND inventory AND species         2\n",
       "3                    Québec AND species         3\n",
       "4     Québec AND abundance AND  species         4\n",
       "5     Québec AND occurrence AND species         5\n",
       "6     Québec AND population AND species         6\n",
       "7          Québec AND sites AND species         7\n",
       "8       Québec AND sampling AND species         8\n",
       "9     Québec AND collection AND species         9"
      ]
     },
     "execution_count": 3,
     "metadata": {},
     "output_type": "execute_result"
    }
   ],
   "source": [
    "path_query='C:/Users/vals3103/Downloads/df_query.xlsx'\n",
    "df_queries = pd.read_excel(path_query, engine = \"openpyxl\", converters={'id_query':int})\n",
    "df_queries"
   ]
  },
  {
   "cell_type": "markdown",
   "id": "4ef0dba7",
   "metadata": {},
   "source": [
    "Here, importantly, subset the queries to not take into account the ones that have already been done. For instance, to ignore the 7 first query (id >=):"
   ]
  },
  {
   "cell_type": "code",
   "execution_count": 8,
   "id": "209b6b8f",
   "metadata": {},
   "outputs": [],
   "source": [
    "queries = df_queries.query(\"id_query >= 7\").to_dict()['query']"
   ]
  },
  {
   "cell_type": "code",
   "execution_count": 9,
   "id": "0a8f4f8a",
   "metadata": {},
   "outputs": [
    {
     "name": "stdout",
     "output_type": "stream",
     "text": [
      "7\n",
      "Québec AND sites AND species\n",
      "8\n",
      "Québec AND sampling AND species\n",
      "9\n",
      "Québec AND collection AND species\n"
     ]
    }
   ],
   "source": [
    "for i, query in queries.items():\n",
    "    print(i)\n",
    "    print(query)"
   ]
  },
  {
   "cell_type": "markdown",
   "id": "88641b04",
   "metadata": {},
   "source": [
    "## Zenodo"
   ]
  },
  {
   "cell_type": "code",
   "execution_count": 25,
   "id": "e1a66f14",
   "metadata": {},
   "outputs": [],
   "source": [
    "df_zenodo = retrieve_zenodo(queries)"
   ]
  },
  {
   "cell_type": "code",
   "execution_count": 26,
   "id": "d055ece7",
   "metadata": {},
   "outputs": [
    {
     "data": {
      "text/html": [
       "<div>\n",
       "<style scoped>\n",
       "    .dataframe tbody tr th:only-of-type {\n",
       "        vertical-align: middle;\n",
       "    }\n",
       "\n",
       "    .dataframe tbody tr th {\n",
       "        vertical-align: top;\n",
       "    }\n",
       "\n",
       "    .dataframe thead th {\n",
       "        text-align: right;\n",
       "    }\n",
       "</style>\n",
       "<table border=\"1\" class=\"dataframe\">\n",
       "  <thead>\n",
       "    <tr style=\"text-align: right;\">\n",
       "      <th></th>\n",
       "      <th>url</th>\n",
       "      <th>title</th>\n",
       "      <th>description</th>\n",
       "      <th>method</th>\n",
       "      <th>notes</th>\n",
       "      <th>keywords</th>\n",
       "      <th>locations</th>\n",
       "      <th>publication_date</th>\n",
       "      <th>cited_articles</th>\n",
       "      <th>id_query</th>\n",
       "      <th>source</th>\n",
       "    </tr>\n",
       "  </thead>\n",
       "  <tbody>\n",
       "    <tr>\n",
       "      <th>0</th>\n",
       "      <td>https://doi.org/10.5061/dryad.s1rn8pk7d</td>\n",
       "      <td>Boreal aspen understory diversity along a cont...</td>\n",
       "      <td>&lt;p&gt;This dataset contains vascular plant specie...</td>\n",
       "      <td>&lt;p&gt;Sampling took place in 33 trembling aspen (...</td>\n",
       "      <td>&lt;p&gt;Associated paper: Crispo, Jean, Fenton, Led...</td>\n",
       "      <td>understory vegetation; trembling aspen; plant ...</td>\n",
       "      <td></td>\n",
       "      <td>2021-06-09</td>\n",
       "      <td></td>\n",
       "      <td>9,8,7</td>\n",
       "      <td>zenodo</td>\n",
       "    </tr>\n",
       "    <tr>\n",
       "      <th>1</th>\n",
       "      <td>https://doi.org/10.5061/dryad.dbrv15f1c</td>\n",
       "      <td>Range shifts in butternut, a rare, endangered ...</td>\n",
       "      <td>&lt;p&gt;&lt;strong&gt;Aim: &lt;/strong&gt;Range shifts are a ke...</td>\n",
       "      <td>&lt;p class=\"MsoNormal\"&gt;&lt;span style=\"font-size:11...</td>\n",
       "      <td>&lt;p&gt;Data was cleaned and processed in R - genet...</td>\n",
       "      <td>central-marginal hypothesis; species migration...</td>\n",
       "      <td></td>\n",
       "      <td>2022-03-10</td>\n",
       "      <td></td>\n",
       "      <td>9,8,7</td>\n",
       "      <td>zenodo</td>\n",
       "    </tr>\n",
       "    <tr>\n",
       "      <th>2</th>\n",
       "      <td>https://doi.org/10.5061/dryad.vp530</td>\n",
       "      <td>Data from: Temporal dynamics of plant-soil fee...</td>\n",
       "      <td>1. Pathogens can accumulate on invasive plants...</td>\n",
       "      <td></td>\n",
       "      <td>&lt;div class=\"o-metadata__file-usage-entry\"&gt;Fung...</td>\n",
       "      <td>454-pyrosequencing; pathogen accumulation; Inv...</td>\n",
       "      <td>Canada; Ontario</td>\n",
       "      <td>2018-05-22</td>\n",
       "      <td>https://doi.org/10.1111/1365-2745.12459</td>\n",
       "      <td>7</td>\n",
       "      <td>zenodo</td>\n",
       "    </tr>\n",
       "    <tr>\n",
       "      <th>3</th>\n",
       "      <td>https://doi.org/10.5281/zenodo.6246853</td>\n",
       "      <td>Environmental variables measured in 624 lakes ...</td>\n",
       "      <td>&lt;p&gt;The file &amp;ldquo;LakePluse_env_624lakes.csv&amp;...</td>\n",
       "      <td></td>\n",
       "      <td></td>\n",
       "      <td>Lakes; Canada; fish; Environmental variables</td>\n",
       "      <td></td>\n",
       "      <td>2022-02-23</td>\n",
       "      <td>https://doi.org/10.5281/zenodo.4701262; https:...</td>\n",
       "      <td>8,7</td>\n",
       "      <td>zenodo</td>\n",
       "    </tr>\n",
       "    <tr>\n",
       "      <th>4</th>\n",
       "      <td>https://doi.org/10.5061/dryad.0rxwdbs2c</td>\n",
       "      <td>Exploration and diet specialization in eastern...</td>\n",
       "      <td>&lt;p&gt;Individual diet specialization (IDS) is wid...</td>\n",
       "      <td>&lt;p&gt;From 2012 to 2016, we live-trapped wild eas...</td>\n",
       "      <td>&lt;p&gt;Funding provided by: Natural Sciences and E...</td>\n",
       "      <td>C and N stable isotopes; exploration behavior;...</td>\n",
       "      <td></td>\n",
       "      <td>2022-03-08</td>\n",
       "      <td>https://doi.org/10.5281/zenodo.5898699</td>\n",
       "      <td>7</td>\n",
       "      <td>zenodo</td>\n",
       "    </tr>\n",
       "  </tbody>\n",
       "</table>\n",
       "</div>"
      ],
      "text/plain": [
       "                                       url  \\\n",
       "0  https://doi.org/10.5061/dryad.s1rn8pk7d   \n",
       "1  https://doi.org/10.5061/dryad.dbrv15f1c   \n",
       "2      https://doi.org/10.5061/dryad.vp530   \n",
       "3   https://doi.org/10.5281/zenodo.6246853   \n",
       "4  https://doi.org/10.5061/dryad.0rxwdbs2c   \n",
       "\n",
       "                                               title  \\\n",
       "0  Boreal aspen understory diversity along a cont...   \n",
       "1  Range shifts in butternut, a rare, endangered ...   \n",
       "2  Data from: Temporal dynamics of plant-soil fee...   \n",
       "3  Environmental variables measured in 624 lakes ...   \n",
       "4  Exploration and diet specialization in eastern...   \n",
       "\n",
       "                                         description  \\\n",
       "0  <p>This dataset contains vascular plant specie...   \n",
       "1  <p><strong>Aim: </strong>Range shifts are a ke...   \n",
       "2  1. Pathogens can accumulate on invasive plants...   \n",
       "3  <p>The file &ldquo;LakePluse_env_624lakes.csv&...   \n",
       "4  <p>Individual diet specialization (IDS) is wid...   \n",
       "\n",
       "                                              method  \\\n",
       "0  <p>Sampling took place in 33 trembling aspen (...   \n",
       "1  <p class=\"MsoNormal\"><span style=\"font-size:11...   \n",
       "2                                                      \n",
       "3                                                      \n",
       "4  <p>From 2012 to 2016, we live-trapped wild eas...   \n",
       "\n",
       "                                               notes  \\\n",
       "0  <p>Associated paper: Crispo, Jean, Fenton, Led...   \n",
       "1  <p>Data was cleaned and processed in R - genet...   \n",
       "2  <div class=\"o-metadata__file-usage-entry\">Fung...   \n",
       "3                                                      \n",
       "4  <p>Funding provided by: Natural Sciences and E...   \n",
       "\n",
       "                                            keywords        locations  \\\n",
       "0  understory vegetation; trembling aspen; plant ...                    \n",
       "1  central-marginal hypothesis; species migration...                    \n",
       "2  454-pyrosequencing; pathogen accumulation; Inv...  Canada; Ontario   \n",
       "3       Lakes; Canada; fish; Environmental variables                    \n",
       "4  C and N stable isotopes; exploration behavior;...                    \n",
       "\n",
       "  publication_date                                     cited_articles  \\\n",
       "0       2021-06-09                                                      \n",
       "1       2022-03-10                                                      \n",
       "2       2018-05-22            https://doi.org/10.1111/1365-2745.12459   \n",
       "3       2022-02-23  https://doi.org/10.5281/zenodo.4701262; https:...   \n",
       "4       2022-03-08             https://doi.org/10.5281/zenodo.5898699   \n",
       "\n",
       "  id_query  source  \n",
       "0    9,8,7  zenodo  \n",
       "1    9,8,7  zenodo  \n",
       "2        7  zenodo  \n",
       "3      8,7  zenodo  \n",
       "4        7  zenodo  "
      ]
     },
     "execution_count": 26,
     "metadata": {},
     "output_type": "execute_result"
    }
   ],
   "source": [
    "df_zenodo.head()"
   ]
  },
  {
   "cell_type": "markdown",
   "id": "0f1f95d2",
   "metadata": {},
   "source": [
    "Number of results:"
   ]
  },
  {
   "cell_type": "code",
   "execution_count": 44,
   "id": "3db14552",
   "metadata": {},
   "outputs": [
    {
     "data": {
      "text/plain": [
       "114"
      ]
     },
     "execution_count": 44,
     "metadata": {},
     "output_type": "execute_result"
    }
   ],
   "source": [
    "len(df_zenodo.index)"
   ]
  },
  {
   "cell_type": "markdown",
   "id": "7865609f",
   "metadata": {},
   "source": [
    "First filter: we check that \"Québec\" or \"Quebec\" appears in the sections title, method, description, notes, keywords or locations"
   ]
  },
  {
   "cell_type": "code",
   "execution_count": 28,
   "id": "1457b0d0",
   "metadata": {},
   "outputs": [],
   "source": [
    "df_zenodo[\"full_text\"] = df_zenodo[\"title\"] + \" \" + df_zenodo[\"method\"] + \" \" + df_zenodo[\"description\"] + \" \" +df_zenodo[\"notes\"] + \" \" + df_zenodo[\"keywords\"]+ \" \" + df_zenodo[\"locations\"]\n",
    "score = df_zenodo['full_text'].apply(lambda x: kw_in_text(x, [\"Québec\", \"Quebec\"])) \n",
    "df_zenodo[\"quebec\"] = score"
   ]
  },
  {
   "cell_type": "markdown",
   "id": "c5ff488c",
   "metadata": {},
   "source": [
    "Second filter: for already detected urls we have to record the fact that they were detected with the new query."
   ]
  },
  {
   "cell_type": "code",
   "execution_count": 45,
   "id": "ff47c9d4",
   "metadata": {},
   "outputs": [],
   "source": [
    "done_articles = pd.read_excel(\"C://Users//vals3103//Downloads//to_do_11_03_22.xlsx\", engine = \"openpyxl\")\n",
    "done_urls = list(set(done_articles.url.to_list()))\n"
   ]
  },
  {
   "cell_type": "code",
   "execution_count": 40,
   "id": "9ebf665b",
   "metadata": {},
   "outputs": [
    {
     "name": "stderr",
     "output_type": "stream",
     "text": [
      "<ipython-input-40-4bd08776d004>:2: SettingWithCopyWarning: \n",
      "A value is trying to be set on a copy of a slice from a DataFrame\n",
      "\n",
      "See the caveats in the documentation: https://pandas.pydata.org/pandas-docs/stable/user_guide/indexing.html#returning-a-view-versus-a-copy\n",
      "  df_zenodo[\"done\"][df_zenodo.url.isin(done_urls)] = 1\n"
     ]
    }
   ],
   "source": [
    "df_zenodo[\"done\"] = 0\n",
    "df_zenodo[\"done\"][df_zenodo.url.isin(done_urls)] = 1"
   ]
  },
  {
   "cell_type": "markdown",
   "id": "96dc876d",
   "metadata": {},
   "source": [
    "Export the dataset"
   ]
  },
  {
   "cell_type": "code",
   "execution_count": 43,
   "id": "630f9195",
   "metadata": {},
   "outputs": [],
   "source": [
    "df_zenodo.to_excel(\"C://Users//vals3103//Post-doc//Text_mining//zenodo_DD_MM_YYYY.xlsx\", header=True, index=False)"
   ]
  }
 ],
 "metadata": {
  "kernelspec": {
   "display_name": "Python 3",
   "language": "python",
   "name": "python3"
  },
  "language_info": {
   "codemirror_mode": {
    "name": "ipython",
    "version": 3
   },
   "file_extension": ".py",
   "mimetype": "text/x-python",
   "name": "python",
   "nbconvert_exporter": "python",
   "pygments_lexer": "ipython3",
   "version": "3.9.7"
  }
 },
 "nbformat": 4,
 "nbformat_minor": 5
}
